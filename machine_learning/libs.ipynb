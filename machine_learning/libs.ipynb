{
 "cells": [
  {
   "cell_type": "code",
   "execution_count": 2,
   "id": "c39ca563-c26c-462a-93c0-eccfd16ec9c8",
   "metadata": {},
   "outputs": [],
   "source": [
    "import numpy as np"
   ]
  },
  {
   "cell_type": "code",
   "execution_count": null,
   "id": "cfe261e0-115d-4cb4-aca3-ef6cc636bcac",
   "metadata": {},
   "outputs": [],
   "source": [
    "def removeOutlier(dataset, feature):\n",
    "    q1=dataset[feature].quantile(0.25)\n",
    "    q3=dataset[feature].quantile(0.75)\n",
    "    IQR=q3-q1\n",
    "    lowerLimit = q1-1.5*IQR\n",
    "    upperLimit = q3+1.5*IQR\n",
    "    dataset = dataset[dataset[feature]<upperLimit]\n",
    "    dataset = dataset[dataset[feature]>lowerLimit]\n",
    "    return dataset"
   ]
  },
  {
   "cell_type": "code",
   "execution_count": null,
   "id": "b1321c54-4cad-46d8-b821-04c244d4a1f6",
   "metadata": {},
   "outputs": [],
   "source": [
    "FEATURE_MIN_MAX=[]"
   ]
  },
  {
   "cell_type": "code",
   "execution_count": 1,
   "id": "e584e9af-3e89-4582-9514-5cbf2a31760d",
   "metadata": {},
   "outputs": [],
   "source": [
    "def scale_continous(series, feature):\n",
    "    maximum = series.max()\n",
    "    minimum = series.min()\n",
    "    series_range = maximum-minimum\n",
    "    FEATURE_MIN_MAX.append([feature, maximum, minimum])\n",
    "    return series.apply(lambda val: (val-minimum)/series_range)"
   ]
  },
  {
   "cell_type": "code",
   "execution_count": null,
   "id": "1b4ef974-ec0b-4dfd-8dbf-be51ef30921d",
   "metadata": {},
   "outputs": [],
   "source": [
    "def encode_employment_type(value: str)->int:\n",
    "    if value is np.nan:\n",
    "        return 0\n",
    "    elif str(value).lower()=='salaried':\n",
    "        return 1\n",
    "    elif str(value).lower()=='self employed':\n",
    "        return 2\n",
    "    else:\n",
    "        raise ValueError('Unexpected employment type')"
   ]
  },
  {
   "cell_type": "code",
   "execution_count": null,
   "id": "c3206ce0-d28c-492d-bce4-24deff2d4fbe",
   "metadata": {},
   "outputs": [],
   "source": [
    "def clean_age_length_str(history: str)->float:\n",
    "    if history:\n",
    "        history = history.split(' ')\n",
    "        years = int(history[0].lower().replace('yrs', ''))\n",
    "        months = int(history[1].lower().replace('mon', ''))\n",
    "        total_years = years+(months/12)\n",
    "        return total_years"
   ]
  }
 ],
 "metadata": {
  "kernelspec": {
   "display_name": "Python 3 (ipykernel)",
   "language": "python",
   "name": "python3"
  },
  "language_info": {
   "codemirror_mode": {
    "name": "ipython",
    "version": 3
   },
   "file_extension": ".py",
   "mimetype": "text/x-python",
   "name": "python",
   "nbconvert_exporter": "python",
   "pygments_lexer": "ipython3",
   "version": "3.10.0"
  }
 },
 "nbformat": 4,
 "nbformat_minor": 5
}
