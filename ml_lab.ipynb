{
 "cells": [
  {
   "cell_type": "code",
   "execution_count": null,
   "id": "1075c848-bb4d-4770-9053-ee8b0737c3a9",
   "metadata": {},
   "outputs": [],
   "source": [
    "import pandas as pd\n",
    "import plotly.express as px\n",
    "\n",
    "from sklearn.metrics import accuracy_score, f1_score\n",
    "\n",
    "from sklearn.feature_selection import SelectKBest, f_classif, chi2\n",
    "from imblearn.over_sampling import SMOTE\n",
    "from imblearn.under_sampling import RandomUnderSampler\n",
    "\n",
    "import numpy as np\n",
    "\n",
    "from sklearn.model_selection import train_test_split\n",
    "\n",
    "from sklearn.linear_model import LogisticRegression\n",
    "from sklearn.ensemble import RandomForestClassifier, GradientBoostingClassifier\n",
    "from tqdm.notebook import tqdm"
   ]
  },
  {
   "cell_type": "code",
   "execution_count": null,
   "id": "b0d0c47e-b7c9-4d81-aa8f-35e6b7d2ead2",
   "metadata": {},
   "outputs": [],
   "source": [
    "data = pd.read_csv('data/clean_data.csv')"
   ]
  },
  {
   "cell_type": "code",
   "execution_count": null,
   "id": "3bd0912a-5bfe-49be-8643-3e9d042de4f3",
   "metadata": {},
   "outputs": [],
   "source": [
    "data.head()"
   ]
  },
  {
   "cell_type": "markdown",
   "id": "4cc96546-01fa-490d-a624-f786c05d79ea",
   "metadata": {},
   "source": [
    "## imbalanced data"
   ]
  },
  {
   "cell_type": "code",
   "execution_count": null,
   "id": "7dcb376a-cc05-4a58-ba87-ce8c3d0cd041",
   "metadata": {},
   "outputs": [],
   "source": [
    "df = data[['LOAN_DEFAULT', 'UNIQUEID']].groupby('LOAN_DEFAULT').count().reset_index()\n",
    "df"
   ]
  },
  {
   "cell_type": "code",
   "execution_count": null,
   "id": "3eec2e06-ce1b-4600-be33-4cc6627b228f",
   "metadata": {},
   "outputs": [],
   "source": [
    "fig = px.bar(df, x='LOAN_DEFAULT', y='UNIQUEID')\n",
    "fig.show()"
   ]
  },
  {
   "cell_type": "markdown",
   "id": "25931b83-4868-43fb-9b48-d5586452703e",
   "metadata": {},
   "source": [
    "## feature selection"
   ]
  },
  {
   "cell_type": "code",
   "execution_count": null,
   "id": "fd77aabd-7427-4cd8-b2b3-011ec0d103e4",
   "metadata": {},
   "outputs": [],
   "source": [
    "data.dtypes"
   ]
  },
  {
   "cell_type": "code",
   "execution_count": null,
   "id": "632d1e51-44d8-49ea-8abe-fca34449f8a5",
   "metadata": {},
   "outputs": [],
   "source": [
    "num_cols = [\n",
    "    'DISBURSAL_AGE',\n",
    "    'APPLICANTS_AGE',\n",
    "    'CREDIT_HISTORY_LENGTH',\n",
    "    'AVERAGE_ACCT_AGE',\n",
    "    'PRI_SANCTIONED_AMOUNT',\n",
    "    'PRI_CURRENT_BALANCE',\n",
    "    'PRI_NO_OF_ACCTS',\n",
    "    'PERFORM_CNS_SCORE',\n",
    "    'LTV',\n",
    "    'ASSET_COST',\n",
    "    'DISBURSED_AMOUNT',\n",
    "]\n",
    "len(num_cols)"
   ]
  },
  {
   "cell_type": "code",
   "execution_count": null,
   "id": "76218bf7-4f6c-48b3-9ad2-edbe7ac7242f",
   "metadata": {},
   "outputs": [],
   "source": [
    "X_num = data[num_cols]\n",
    "y = data['LOAN_DEFAULT']"
   ]
  },
  {
   "cell_type": "code",
   "execution_count": null,
   "id": "91a27317-283c-4243-b964-964c9e6df85c",
   "metadata": {},
   "outputs": [],
   "source": [
    "free_cols = [\n",
    "    'DISBURSAL_DATE',\n",
    "    'LOAN_DEFAULT',\n",
    "    'UNIQUEID'\n",
    "]"
   ]
  },
  {
   "cell_type": "code",
   "execution_count": null,
   "id": "b1cfb1c9-4cff-4b2e-ba23-dc1621da3240",
   "metadata": {},
   "outputs": [],
   "source": [
    "X_cat = data.drop(num_cols+free_cols, axis = 1)"
   ]
  },
  {
   "cell_type": "code",
   "execution_count": null,
   "id": "2b7c8179-1bb0-4835-84a3-118a9d85621c",
   "metadata": {},
   "outputs": [],
   "source": [
    "cat_cols = list(X_cat.columns)"
   ]
  },
  {
   "cell_type": "code",
   "execution_count": null,
   "id": "e7d68a1c-8adf-4e97-9910-de28dbf522ca",
   "metadata": {},
   "outputs": [],
   "source": [
    "len(cat_cols)"
   ]
  },
  {
   "cell_type": "markdown",
   "id": "9089299c-9a5d-43d6-92ee-c60c1baedb97",
   "metadata": {},
   "source": [
    "## model training"
   ]
  },
  {
   "cell_type": "code",
   "execution_count": null,
   "id": "963fc1da-3510-4a86-a065-6b3372b81846",
   "metadata": {},
   "outputs": [],
   "source": [
    "def cal_metrices(y_pred, y_test):\n",
    "    return [\n",
    "        accuracy_score(y_pred, y_test),\n",
    "        f1_score(y_pred, y_test)\n",
    "    ]"
   ]
  },
  {
   "cell_type": "code",
   "execution_count": null,
   "id": "b590f733-49c0-458c-9fe9-0dd91f539635",
   "metadata": {},
   "outputs": [],
   "source": [
    "MODELS_PERFORMANCES = []"
   ]
  },
  {
   "cell_type": "code",
   "execution_count": null,
   "id": "a755ee64-82a9-4571-95ad-52801045112e",
   "metadata": {},
   "outputs": [],
   "source": [
    "RANDOM_SAMPLER = {'rus':RandomUnderSampler(random_state=1), 'sm':SMOTE(random_state=1), 'rs':False}"
   ]
  },
  {
   "cell_type": "code",
   "execution_count": null,
   "id": "46a59d45-677a-4ff2-bea5-3ffe2db6e7a5",
   "metadata": {},
   "outputs": [],
   "source": [
    "def model_training(k_num, k_cat, rs):\n",
    "    # feature selection\n",
    "    fs_num = SelectKBest(score_func=f_classif, k=k_num) # anova\n",
    "    X_num_selected = fs_num.fit_transform(X_num, y)\n",
    "    \n",
    "    fs_cat = SelectKBest(score_func=chi2, k=k_cat)\n",
    "    X_cat_selected = fs_cat.fit_transform(X_cat, y)\n",
    "    \n",
    "    # split data into training and testing sets\n",
    "    train_data_selected = np.concatenate((X_num_selected, X_cat_selected), axis = 1)\n",
    "    x_train, x_test, y_train, y_test = train_test_split(train_data_selected, y, random_state=7)\n",
    "    \n",
    "    if RANDOM_SAMPLER[rs]:\n",
    "        x_train_res, y_train_res = RANDOM_SAMPLER[rs].fit_resample(x_train, y_train)\n",
    "    else:\n",
    "        rs = np.nan\n",
    "        x_train_res, y_train_res = x_train, y_train\n",
    "    # models\n",
    "    # logistic regression\n",
    "    lr = LogisticRegression(max_iter=10000, random_state=0).fit(x_train_res, y_train_res)\n",
    "    MODELS_PERFORMANCES.append(cal_metrices(lr.predict(x_test), y_test)+[k_num, k_cat, 'lr', rs])\n",
    "    # random forest\n",
    "    rf = RandomForestClassifier(max_depth=2, random_state=0).fit(x_train_res, y_train_res)\n",
    "    MODELS_PERFORMANCES.append(cal_metrices(rf.predict(x_test), y_test)+[k_num, k_cat, 'rf', rs])\n",
    "    # gradient boosting machine\n",
    "    gb = GradientBoostingClassifier(n_estimators=100, learning_rate=1.0,\n",
    "                                     max_depth=1, random_state=0).fit(x_train_res, y_train_res)\n",
    "    \n",
    "    MODELS_PERFORMANCES.append(cal_metrices(gb.predict(x_test), y_test)+[k_num, k_cat, 'gb', rs])"
   ]
  },
  {
   "cell_type": "code",
   "execution_count": null,
   "id": "3aa6f41e-ab72-4a6f-8315-451d7a844498",
   "metadata": {},
   "outputs": [],
   "source": [
    "col_num_rs = [ (k_num, k_cat, rs)\n",
    "    for k_num in range(2, len(num_cols))\n",
    "    for k_cat in range(2, len(cat_cols))\n",
    "    for rs in RANDOM_SAMPLER.keys()\n",
    "]"
   ]
  },
  {
   "cell_type": "code",
   "execution_count": null,
   "id": "159b4217-9302-4afd-897c-6bb06eb429d4",
   "metadata": {},
   "outputs": [],
   "source": [
    "for k_num, k_cat, rs in tqdm(col_num_rs):\n",
    "    model_training(k_num, k_cat, rs)"
   ]
  },
  {
   "cell_type": "markdown",
   "id": "56323d5d-e62e-4618-abc7-6fd4db959310",
   "metadata": {},
   "source": [
    "## hyper parameter tunning of gradient boosting machine"
   ]
  },
  {
   "cell_type": "code",
   "execution_count": null,
   "id": "86721a86-f92d-4613-9358-b0399752ffcc",
   "metadata": {},
   "outputs": [],
   "source": [
    "# feature selection\n",
    "# chi square feature selection for numeric input and categorical output\n",
    "fs_num = SelectKBest(score_func=f_classif, k=4)\n",
    "X_num_selected = fs_num.fit_transform(X_num, y)\n",
    "# ANOVA feature selection for numeric input and categorical output\n",
    "fs_cat = SelectKBest(score_func=chi2, k=13)\n",
    "X_cat_selected = fs_cat.fit_transform(X_cat, y)\n",
    "\n",
    "# data splitting and sampling\n",
    "# split the data into trainin and testing sets\n",
    "train = np.concatenate((X_num_selected, X_cat_selected), axis=1)\n",
    "x_train, x_test, y_train, y_test = train_test_split(train, y, random_state=3)\n",
    "\n",
    "# solving the imbalanced problem\n",
    "x_train_res, y_train_res = x_train, y_train #RANDOM_SAMPLER['rus'].fit_resample(x_train, y_train) \n"
   ]
  },
  {
   "cell_type": "code",
   "execution_count": null,
   "id": "62fe20ee-762e-4463-a84b-45aaacb16ae1",
   "metadata": {},
   "outputs": [],
   "source": [
    "estimators = [27, 53, 101, 213, 511]\n",
    "depths = [1, 3, 5, 7, 9]\n",
    "\n",
    "items = [(e,d) for e in estimators for d in depths]"
   ]
  },
  {
   "cell_type": "code",
   "execution_count": null,
   "id": "a3d607d0-4679-45cd-b026-bd3a75fbf765",
   "metadata": {},
   "outputs": [],
   "source": [
    "f1_acc=[]"
   ]
  },
  {
   "cell_type": "code",
   "execution_count": null,
   "id": "32b0af69-90f5-4c44-8750-4579ec934a6e",
   "metadata": {},
   "outputs": [],
   "source": [
    "for e, d in tqdm(items):\n",
    "    gb = GradientBoostingClassifier(n_estimators=e, learning_rate=1.0, subsample=1,\n",
    "                                     max_depth=d, random_state=0).fit(x_train_res, y_train_res)\n",
    "    f1_acc.append(cal_metrices(gb.predict(x_test), y_test)+[e, d])\n"
   ]
  },
  {
   "cell_type": "code",
   "execution_count": null,
   "id": "f554eaf3-0147-46c6-a565-b405031d4307",
   "metadata": {},
   "outputs": [],
   "source": [
    "df = pd.DataFrame(f1_acc, columns=['acc', 'f1', 'est', 'depth'])\n",
    "df = df[df['acc']>=0.7]\n",
    "df.sort_values(by='f1', ascending=False)"
   ]
  },
  {
   "cell_type": "code",
   "execution_count": null,
   "id": "92830cd4-0c51-4d74-8b0f-c274d317aa18",
   "metadata": {},
   "outputs": [],
   "source": [
    "model = GradientBoostingClassifier(n_estimators=213, learning_rate=1.0, subsample=1,\n",
    "                                     max_depth=7, random_state=0).fit(x_train_res, y_train_res)"
   ]
  },
  {
   "cell_type": "code",
   "execution_count": null,
   "id": "4475de66-f714-4294-bb9b-f1bdd7244b41",
   "metadata": {},
   "outputs": [],
   "source": [
    "## Model saving"
   ]
  },
  {
   "cell_type": "code",
   "execution_count": null,
   "id": "1c402c52-1996-44e9-969b-bcea69e4dc9e",
   "metadata": {},
   "outputs": [],
   "source": [
    "from joblib import dump, load\n",
    "dump(model, f'gradient_boosting_loan_model_{datetime.now()}.joblib')"
   ]
  },
  {
   "cell_type": "code",
   "execution_count": null,
   "id": "3e3201da-bd57-44b4-ba59-ac755c194bd2",
   "metadata": {},
   "outputs": [],
   "source": [
    "model = load('gradient_boosting_loan_model_2022-11-27 23:47:26.313148.joblib')"
   ]
  }
 ],
 "metadata": {
  "kernelspec": {
   "display_name": "Python 3 (ipykernel)",
   "language": "python",
   "name": "python3"
  },
  "language_info": {
   "codemirror_mode": {
    "name": "ipython",
    "version": 3
   },
   "file_extension": ".py",
   "mimetype": "text/x-python",
   "name": "python",
   "nbconvert_exporter": "python",
   "pygments_lexer": "ipython3",
   "version": "3.10.0"
  }
 },
 "nbformat": 4,
 "nbformat_minor": 5
}
