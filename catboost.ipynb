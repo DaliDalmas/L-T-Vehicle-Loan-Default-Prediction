{
 "cells": [
  {
   "cell_type": "code",
   "execution_count": 191,
   "id": "a0c52ad3-7fb1-4681-b1fa-7271f1b4a5bf",
   "metadata": {},
   "outputs": [],
   "source": [
    "from catboost import CatBoostClassifier\n",
    "import pandas as pd\n",
    "from sklearn.model_selection import train_test_split, cross_val_score\n",
    "from sklearn.metrics import accuracy_score, f1_score, confusion_matrix\n",
    "\n",
    "from imblearn.under_sampling import RandomUnderSampler\n",
    "from imblearn.over_sampling import SMOTE"
   ]
  },
  {
   "cell_type": "code",
   "execution_count": 192,
   "id": "17fbd135-23ab-4993-a047-f4dfa0538591",
   "metadata": {},
   "outputs": [],
   "source": [
    "data = pd.read_csv('data/clean_data.csv')"
   ]
  },
  {
   "cell_type": "code",
   "execution_count": 193,
   "id": "3f21f5ad-7ff5-42e0-ba96-16fbd6d91479",
   "metadata": {},
   "outputs": [
    {
     "data": {
      "text/html": [
       "<div>\n",
       "<style scoped>\n",
       "    .dataframe tbody tr th:only-of-type {\n",
       "        vertical-align: middle;\n",
       "    }\n",
       "\n",
       "    .dataframe tbody tr th {\n",
       "        vertical-align: top;\n",
       "    }\n",
       "\n",
       "    .dataframe thead th {\n",
       "        text-align: right;\n",
       "    }\n",
       "</style>\n",
       "<table border=\"1\" class=\"dataframe\">\n",
       "  <thead>\n",
       "    <tr style=\"text-align: right;\">\n",
       "      <th></th>\n",
       "      <th>UNIQUEID</th>\n",
       "      <th>DISBURSED_AMOUNT</th>\n",
       "      <th>ASSET_COST</th>\n",
       "      <th>LTV</th>\n",
       "      <th>BRANCH_ID</th>\n",
       "      <th>MANUFACTURER_ID</th>\n",
       "      <th>EMPLOYMENT_TYPE</th>\n",
       "      <th>DISBURSAL_DATE</th>\n",
       "      <th>STATE_ID</th>\n",
       "      <th>AADHAR_FLAG</th>\n",
       "      <th>PAN_FLAG</th>\n",
       "      <th>VOTERID_FLAG</th>\n",
       "      <th>DRIVING_FLAG</th>\n",
       "      <th>PASSPORT_FLAG</th>\n",
       "      <th>PERFORM_CNS_SCORE</th>\n",
       "      <th>PRI_NO_OF_ACCTS</th>\n",
       "      <th>PRI_ACTIVE_ACCTS</th>\n",
       "      <th>PRI_OVERDUE_ACCTS</th>\n",
       "      <th>PRI_CURRENT_BALANCE</th>\n",
       "      <th>PRI_SANCTIONED_AMOUNT</th>\n",
       "      <th>SEC_NO_OF_ACCTS</th>\n",
       "      <th>SEC_ACTIVE_ACCTS</th>\n",
       "      <th>SEC_OVERDUE_ACCTS</th>\n",
       "      <th>NEW_ACCTS_IN_LAST_SIX_MONTHS</th>\n",
       "      <th>DELINQUENT_ACCTS_IN_LAST_SIX_MONTHS</th>\n",
       "      <th>AVERAGE_ACCT_AGE</th>\n",
       "      <th>CREDIT_HISTORY_LENGTH</th>\n",
       "      <th>NO_OF_INQUIRIES</th>\n",
       "      <th>LOAN_DEFAULT</th>\n",
       "      <th>APPLICANTS_AGE</th>\n",
       "      <th>DISBURSAL_AGE</th>\n",
       "      <th>DISBURSAL_MONTH</th>\n",
       "    </tr>\n",
       "  </thead>\n",
       "  <tbody>\n",
       "    <tr>\n",
       "      <th>0</th>\n",
       "      <td>420825</td>\n",
       "      <td>0.439324</td>\n",
       "      <td>0.230606</td>\n",
       "      <td>0.875911</td>\n",
       "      <td>0</td>\n",
       "      <td>0</td>\n",
       "      <td>1</td>\n",
       "      <td>2018-03-08</td>\n",
       "      <td>0</td>\n",
       "      <td>True</td>\n",
       "      <td>False</td>\n",
       "      <td>False</td>\n",
       "      <td>False</td>\n",
       "      <td>False</td>\n",
       "      <td>0.000000</td>\n",
       "      <td>0.0</td>\n",
       "      <td>0</td>\n",
       "      <td>0</td>\n",
       "      <td>0.358559</td>\n",
       "      <td>0.0</td>\n",
       "      <td>0</td>\n",
       "      <td>0</td>\n",
       "      <td>0</td>\n",
       "      <td>0</td>\n",
       "      <td>0</td>\n",
       "      <td>0.00</td>\n",
       "      <td>0.0</td>\n",
       "      <td>0</td>\n",
       "      <td>False</td>\n",
       "      <td>38.0</td>\n",
       "      <td>4.0</td>\n",
       "      <td>3</td>\n",
       "    </tr>\n",
       "    <tr>\n",
       "      <th>1</th>\n",
       "      <td>417566</td>\n",
       "      <td>0.490280</td>\n",
       "      <td>0.289956</td>\n",
       "      <td>0.877732</td>\n",
       "      <td>0</td>\n",
       "      <td>0</td>\n",
       "      <td>2</td>\n",
       "      <td>2018-01-08</td>\n",
       "      <td>0</td>\n",
       "      <td>True</td>\n",
       "      <td>False</td>\n",
       "      <td>False</td>\n",
       "      <td>False</td>\n",
       "      <td>False</td>\n",
       "      <td>0.000000</td>\n",
       "      <td>0.0</td>\n",
       "      <td>0</td>\n",
       "      <td>0</td>\n",
       "      <td>0.358559</td>\n",
       "      <td>0.0</td>\n",
       "      <td>0</td>\n",
       "      <td>0</td>\n",
       "      <td>0</td>\n",
       "      <td>0</td>\n",
       "      <td>0</td>\n",
       "      <td>0.00</td>\n",
       "      <td>0.0</td>\n",
       "      <td>0</td>\n",
       "      <td>False</td>\n",
       "      <td>37.0</td>\n",
       "      <td>4.0</td>\n",
       "      <td>1</td>\n",
       "    </tr>\n",
       "    <tr>\n",
       "      <th>2</th>\n",
       "      <td>539055</td>\n",
       "      <td>0.473295</td>\n",
       "      <td>0.268703</td>\n",
       "      <td>0.849499</td>\n",
       "      <td>0</td>\n",
       "      <td>0</td>\n",
       "      <td>2</td>\n",
       "      <td>2018-09-26</td>\n",
       "      <td>0</td>\n",
       "      <td>True</td>\n",
       "      <td>False</td>\n",
       "      <td>False</td>\n",
       "      <td>False</td>\n",
       "      <td>False</td>\n",
       "      <td>0.000000</td>\n",
       "      <td>0.0</td>\n",
       "      <td>0</td>\n",
       "      <td>0</td>\n",
       "      <td>0.358559</td>\n",
       "      <td>0.0</td>\n",
       "      <td>0</td>\n",
       "      <td>0</td>\n",
       "      <td>0</td>\n",
       "      <td>0</td>\n",
       "      <td>0</td>\n",
       "      <td>0.00</td>\n",
       "      <td>0.0</td>\n",
       "      <td>1</td>\n",
       "      <td>True</td>\n",
       "      <td>45.0</td>\n",
       "      <td>4.0</td>\n",
       "      <td>9</td>\n",
       "    </tr>\n",
       "    <tr>\n",
       "      <th>3</th>\n",
       "      <td>518279</td>\n",
       "      <td>0.513588</td>\n",
       "      <td>0.300784</td>\n",
       "      <td>0.878415</td>\n",
       "      <td>0</td>\n",
       "      <td>0</td>\n",
       "      <td>2</td>\n",
       "      <td>2018-09-19</td>\n",
       "      <td>0</td>\n",
       "      <td>True</td>\n",
       "      <td>False</td>\n",
       "      <td>False</td>\n",
       "      <td>False</td>\n",
       "      <td>False</td>\n",
       "      <td>0.933258</td>\n",
       "      <td>1.0</td>\n",
       "      <td>0</td>\n",
       "      <td>0</td>\n",
       "      <td>0.358559</td>\n",
       "      <td>0.0</td>\n",
       "      <td>0</td>\n",
       "      <td>0</td>\n",
       "      <td>0</td>\n",
       "      <td>0</td>\n",
       "      <td>0</td>\n",
       "      <td>1.75</td>\n",
       "      <td>2.0</td>\n",
       "      <td>0</td>\n",
       "      <td>False</td>\n",
       "      <td>32.0</td>\n",
       "      <td>4.0</td>\n",
       "      <td>9</td>\n",
       "    </tr>\n",
       "    <tr>\n",
       "      <th>4</th>\n",
       "      <td>529269</td>\n",
       "      <td>0.359510</td>\n",
       "      <td>0.292764</td>\n",
       "      <td>0.576958</td>\n",
       "      <td>0</td>\n",
       "      <td>0</td>\n",
       "      <td>1</td>\n",
       "      <td>2018-09-23</td>\n",
       "      <td>0</td>\n",
       "      <td>True</td>\n",
       "      <td>False</td>\n",
       "      <td>False</td>\n",
       "      <td>False</td>\n",
       "      <td>False</td>\n",
       "      <td>0.000000</td>\n",
       "      <td>0.0</td>\n",
       "      <td>0</td>\n",
       "      <td>0</td>\n",
       "      <td>0.358559</td>\n",
       "      <td>0.0</td>\n",
       "      <td>0</td>\n",
       "      <td>0</td>\n",
       "      <td>0</td>\n",
       "      <td>0</td>\n",
       "      <td>0</td>\n",
       "      <td>0.00</td>\n",
       "      <td>0.0</td>\n",
       "      <td>0</td>\n",
       "      <td>False</td>\n",
       "      <td>34.0</td>\n",
       "      <td>4.0</td>\n",
       "      <td>9</td>\n",
       "    </tr>\n",
       "  </tbody>\n",
       "</table>\n",
       "</div>"
      ],
      "text/plain": [
       "   UNIQUEID  DISBURSED_AMOUNT  ASSET_COST       LTV  BRANCH_ID  \\\n",
       "0    420825          0.439324    0.230606  0.875911          0   \n",
       "1    417566          0.490280    0.289956  0.877732          0   \n",
       "2    539055          0.473295    0.268703  0.849499          0   \n",
       "3    518279          0.513588    0.300784  0.878415          0   \n",
       "4    529269          0.359510    0.292764  0.576958          0   \n",
       "\n",
       "   MANUFACTURER_ID  EMPLOYMENT_TYPE DISBURSAL_DATE  STATE_ID  AADHAR_FLAG  \\\n",
       "0                0                1     2018-03-08         0         True   \n",
       "1                0                2     2018-01-08         0         True   \n",
       "2                0                2     2018-09-26         0         True   \n",
       "3                0                2     2018-09-19         0         True   \n",
       "4                0                1     2018-09-23         0         True   \n",
       "\n",
       "   PAN_FLAG  VOTERID_FLAG  DRIVING_FLAG  PASSPORT_FLAG  PERFORM_CNS_SCORE  \\\n",
       "0     False         False         False          False           0.000000   \n",
       "1     False         False         False          False           0.000000   \n",
       "2     False         False         False          False           0.000000   \n",
       "3     False         False         False          False           0.933258   \n",
       "4     False         False         False          False           0.000000   \n",
       "\n",
       "   PRI_NO_OF_ACCTS  PRI_ACTIVE_ACCTS  PRI_OVERDUE_ACCTS  PRI_CURRENT_BALANCE  \\\n",
       "0              0.0                 0                  0             0.358559   \n",
       "1              0.0                 0                  0             0.358559   \n",
       "2              0.0                 0                  0             0.358559   \n",
       "3              1.0                 0                  0             0.358559   \n",
       "4              0.0                 0                  0             0.358559   \n",
       "\n",
       "   PRI_SANCTIONED_AMOUNT  SEC_NO_OF_ACCTS  SEC_ACTIVE_ACCTS  \\\n",
       "0                    0.0                0                 0   \n",
       "1                    0.0                0                 0   \n",
       "2                    0.0                0                 0   \n",
       "3                    0.0                0                 0   \n",
       "4                    0.0                0                 0   \n",
       "\n",
       "   SEC_OVERDUE_ACCTS  NEW_ACCTS_IN_LAST_SIX_MONTHS  \\\n",
       "0                  0                             0   \n",
       "1                  0                             0   \n",
       "2                  0                             0   \n",
       "3                  0                             0   \n",
       "4                  0                             0   \n",
       "\n",
       "   DELINQUENT_ACCTS_IN_LAST_SIX_MONTHS  AVERAGE_ACCT_AGE  \\\n",
       "0                                    0              0.00   \n",
       "1                                    0              0.00   \n",
       "2                                    0              0.00   \n",
       "3                                    0              1.75   \n",
       "4                                    0              0.00   \n",
       "\n",
       "   CREDIT_HISTORY_LENGTH  NO_OF_INQUIRIES  LOAN_DEFAULT  APPLICANTS_AGE  \\\n",
       "0                    0.0                0         False            38.0   \n",
       "1                    0.0                0         False            37.0   \n",
       "2                    0.0                1          True            45.0   \n",
       "3                    2.0                0         False            32.0   \n",
       "4                    0.0                0         False            34.0   \n",
       "\n",
       "   DISBURSAL_AGE  DISBURSAL_MONTH  \n",
       "0            4.0                3  \n",
       "1            4.0                1  \n",
       "2            4.0                9  \n",
       "3            4.0                9  \n",
       "4            4.0                9  "
      ]
     },
     "execution_count": 193,
     "metadata": {},
     "output_type": "execute_result"
    }
   ],
   "source": [
    "data.head()"
   ]
  },
  {
   "cell_type": "code",
   "execution_count": 194,
   "id": "94ea5c44-17b3-40d7-ba14-0f50d367d543",
   "metadata": {},
   "outputs": [
    {
     "data": {
      "text/plain": [
       "Index(['UNIQUEID', 'DISBURSED_AMOUNT', 'ASSET_COST', 'LTV', 'BRANCH_ID',\n",
       "       'MANUFACTURER_ID', 'EMPLOYMENT_TYPE', 'DISBURSAL_DATE', 'STATE_ID',\n",
       "       'AADHAR_FLAG', 'PAN_FLAG', 'VOTERID_FLAG', 'DRIVING_FLAG',\n",
       "       'PASSPORT_FLAG', 'PERFORM_CNS_SCORE', 'PRI_NO_OF_ACCTS',\n",
       "       'PRI_ACTIVE_ACCTS', 'PRI_OVERDUE_ACCTS', 'PRI_CURRENT_BALANCE',\n",
       "       'PRI_SANCTIONED_AMOUNT', 'SEC_NO_OF_ACCTS', 'SEC_ACTIVE_ACCTS',\n",
       "       'SEC_OVERDUE_ACCTS', 'NEW_ACCTS_IN_LAST_SIX_MONTHS',\n",
       "       'DELINQUENT_ACCTS_IN_LAST_SIX_MONTHS', 'AVERAGE_ACCT_AGE',\n",
       "       'CREDIT_HISTORY_LENGTH', 'NO_OF_INQUIRIES', 'LOAN_DEFAULT',\n",
       "       'APPLICANTS_AGE', 'DISBURSAL_AGE', 'DISBURSAL_MONTH'],\n",
       "      dtype='object')"
      ]
     },
     "execution_count": 194,
     "metadata": {},
     "output_type": "execute_result"
    }
   ],
   "source": [
    "data.columns"
   ]
  },
  {
   "cell_type": "code",
   "execution_count": 195,
   "id": "af9a70e2-f428-441a-8bdc-cd0a3d57a9a7",
   "metadata": {},
   "outputs": [],
   "source": [
    "data = data.drop(['BRANCH_ID', 'MANUFACTURER_ID', 'STATE_ID'], axis=1)"
   ]
  },
  {
   "cell_type": "code",
   "execution_count": 196,
   "id": "465f0fee-c876-4ba2-b916-97f4d033d38f",
   "metadata": {},
   "outputs": [],
   "source": [
    "X = data.drop(['UNIQUEID','DISBURSAL_DATE', 'LOAN_DEFAULT'], axis=1)\n",
    "y = data['LOAN_DEFAULT']"
   ]
  },
  {
   "cell_type": "code",
   "execution_count": 197,
   "id": "3761f3a2-b6d9-43f7-b869-daf5e24ae5dd",
   "metadata": {},
   "outputs": [],
   "source": [
    "x_train, x_test, y_train, y_test = train_test_split(X, y, random_state=7)"
   ]
  },
  {
   "cell_type": "code",
   "execution_count": 224,
   "id": "37705e3b-72b1-4687-aae4-4e4ee81759e8",
   "metadata": {},
   "outputs": [],
   "source": [
    "rs = RandomUnderSampler(random_state=7)\n",
    "sm = SMOTE(random_state=7)\n",
    "x_train_res, y_train_res = rs.fit_resample(x_train, y_train)"
   ]
  },
  {
   "cell_type": "code",
   "execution_count": 199,
   "id": "81e5f484-50f8-465b-9a94-59b09af5a986",
   "metadata": {},
   "outputs": [
    {
     "data": {
      "text/plain": [
       "<catboost.core.CatBoostClassifier at 0x16ec05030>"
      ]
     },
     "execution_count": 199,
     "metadata": {},
     "output_type": "execute_result"
    }
   ],
   "source": [
    "model = CatBoostClassifier(iterations=10000)\n",
    "model.fit(x_train_res,\n",
    "          y_train_res,\n",
    "          verbose=False)"
   ]
  },
  {
   "cell_type": "code",
   "execution_count": 200,
   "id": "4cbd2f73-953d-4761-929c-0ea802691a52",
   "metadata": {},
   "outputs": [],
   "source": [
    "y_pred = [True if i=='True' else False for i in model.predict(x_test)]"
   ]
  },
  {
   "cell_type": "code",
   "execution_count": 201,
   "id": "6f2cd053-8867-4266-8210-64b7e0b847d7",
   "metadata": {},
   "outputs": [
    {
     "data": {
      "text/plain": [
       "0.6179085178600291"
      ]
     },
     "execution_count": 201,
     "metadata": {},
     "output_type": "execute_result"
    }
   ],
   "source": [
    "accuracy_score(y_pred, y_test)"
   ]
  },
  {
   "cell_type": "code",
   "execution_count": 202,
   "id": "4bc6950e-4ee1-4ec3-9328-2c3d8f418642",
   "metadata": {},
   "outputs": [
    {
     "data": {
      "text/plain": [
       "0.34326036226247364"
      ]
     },
     "execution_count": 202,
     "metadata": {},
     "output_type": "execute_result"
    }
   ],
   "source": [
    "f1_score(y_pred, y_test)"
   ]
  },
  {
   "cell_type": "code",
   "execution_count": 203,
   "id": "df7ef573-295d-4373-a130-51d97caed414",
   "metadata": {},
   "outputs": [
    {
     "data": {
      "text/plain": [
       "array([[16026,  4047],\n",
       "       [ 7773,  3089]])"
      ]
     },
     "execution_count": 203,
     "metadata": {},
     "output_type": "execute_result"
    }
   ],
   "source": [
    "confusion_matrix(y_pred, y_test)"
   ]
  },
  {
   "cell_type": "code",
   "execution_count": null,
   "id": "55dae049-f06e-49b6-b85f-6252ca0fc01e",
   "metadata": {},
   "outputs": [],
   "source": []
  }
 ],
 "metadata": {
  "kernelspec": {
   "display_name": "Python 3 (ipykernel)",
   "language": "python",
   "name": "python3"
  },
  "language_info": {
   "codemirror_mode": {
    "name": "ipython",
    "version": 3
   },
   "file_extension": ".py",
   "mimetype": "text/x-python",
   "name": "python",
   "nbconvert_exporter": "python",
   "pygments_lexer": "ipython3",
   "version": "3.10.0"
  }
 },
 "nbformat": 4,
 "nbformat_minor": 5
}
